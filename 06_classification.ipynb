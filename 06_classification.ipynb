{
 "cells": [
  {
   "cell_type": "markdown",
   "id": "953de44b-b205-45ce-93f6-f83e8026f66d",
   "metadata": {},
   "source": [
    "### Classification"
   ]
  },
  {
   "cell_type": "markdown",
   "id": "713c84d7-883c-4418-9e5d-f33767b43109",
   "metadata": {},
   "source": [
    "#### Confusion Matrix\n",
    "\n",
    "True Positive: The model correctlt predicted a positive outcome (the actual outcome was positive).\n",
    "\n",
    "True Negative (TN): The model correctly predicted a negative outcome (the actual outcome was negative).\n",
    "\n",
    "False Positive (FP): The model incorrectly predicted a positive outcome (the actual outcome was negative). Also known as Type I error.\n",
    "\n",
    "False Negative (FN): The model incorrectly predicted a negative outcome (the actual outcome was psoitive). Also know as a Type II error."
   ]
  },
  {
   "cell_type": "markdown",
   "id": "31f1a51e-600e-4f36-bdfb-d0381fdf6584",
   "metadata": {},
   "source": [
    "#### Metrics\n",
    "\n",
    "Accuracy = $\\frac{TP+TN}{TP+FP+TN+FN}$. This is the percentage of correct predictions overall.\n",
    "\n",
    "Precision = $\\frac{TP}{TP+FP}$. This is the percentage of all positive predictions that are actually positive.\n",
    "\n",
    "Recall = $\\frac{TP}{TP+FN}$. This is the percentage of correctly predicted actual positives.\n",
    "\n",
    "For predicting diseases, recall is more important while for spam emails, both precision and recall are important.\n",
    "\n",
    "Accuracy does not work well when the dataset is imbalanced.\n",
    "\n",
    "F1 Score = Harmonic mean of Precision and Recall = $2\\cdot\\frac{precision \\cdot recall}{precision + recall}$\n",
    "\n",
    "The harmonic mean of $x_1, x_2, ..., x_n$ is $(\\frac{\\frac{1}{x_1} + \\frac{1}{x_2} + ... + \\frac{1}{x_n}}{n})^{-1}$\n",
    "\n",
    "If $n=2$, $(\\frac{\\frac{1}{x_1} + \\frac{1}{x_2}}{2})^{-1} = 2\\cdot\\frac{x_1x_2}{x_1 + x_2}$\n",
    "\n",
    "Model 1: precision = 0.5, recall = 1\n",
    "\n",
    "Model 2: precision = 0.6, recall = 0.9\n",
    "\n",
    "We want a good balance of both precision and recall. This is where the harmonic means come into play since it measures how close precision is with recall."
   ]
  },
  {
   "cell_type": "code",
   "execution_count": 58,
   "id": "06db7b0e-5b67-4d42-8f7f-eae6c9703335",
   "metadata": {},
   "outputs": [],
   "source": [
    "import numpy as np\n",
    "import pandas as pd"
   ]
  },
  {
   "cell_type": "markdown",
   "id": "a56e8f78-302d-46be-868a-ee7a7957e100",
   "metadata": {},
   "source": [
    "$P(y=1|X) = \\frac{1}{1+e^{-w^{T}x}}$"
   ]
  },
  {
   "cell_type": "code",
   "execution_count": 97,
   "id": "f31c2a0a-c330-4a88-a26d-305a58f4fade",
   "metadata": {},
   "outputs": [
    {
     "name": "stdout",
     "output_type": "stream",
     "text": [
      "0.53\n"
     ]
    },
    {
     "data": {
      "text/plain": [
       "array(['APPROVED', 'APPROVED', 'APPROVED', 'APPROVED', 'REJECTED',\n",
       "       'REJECTED', 'REJECTED', 'APPROVED', 'REJECTED', 'APPROVED',\n",
       "       'REJECTED', 'APPROVED', 'APPROVED', 'APPROVED', 'REJECTED',\n",
       "       'APPROVED', 'REJECTED', 'REJECTED', 'REJECTED', 'APPROVED',\n",
       "       'APPROVED', 'REJECTED', 'APPROVED', 'REJECTED', 'REJECTED',\n",
       "       'APPROVED', 'REJECTED', 'REJECTED', 'REJECTED', 'APPROVED',\n",
       "       'REJECTED', 'APPROVED', 'REJECTED', 'REJECTED', 'APPROVED',\n",
       "       'APPROVED', 'REJECTED', 'APPROVED', 'REJECTED', 'APPROVED',\n",
       "       'REJECTED', 'APPROVED', 'REJECTED', 'APPROVED', 'REJECTED',\n",
       "       'REJECTED', 'REJECTED', 'REJECTED', 'APPROVED', 'REJECTED',\n",
       "       'REJECTED', 'REJECTED', 'APPROVED', 'APPROVED', 'REJECTED',\n",
       "       'REJECTED', 'APPROVED', 'REJECTED', 'APPROVED', 'APPROVED',\n",
       "       'REJECTED', 'APPROVED', 'REJECTED', 'REJECTED', 'APPROVED',\n",
       "       'REJECTED', 'APPROVED', 'REJECTED', 'REJECTED', 'APPROVED',\n",
       "       'APPROVED', 'REJECTED', 'APPROVED', 'APPROVED', 'REJECTED',\n",
       "       'APPROVED', 'APPROVED', 'APPROVED', 'APPROVED', 'REJECTED',\n",
       "       'APPROVED', 'APPROVED', 'APPROVED', 'REJECTED', 'APPROVED',\n",
       "       'REJECTED', 'REJECTED', 'APPROVED', 'REJECTED', 'REJECTED',\n",
       "       'APPROVED', 'APPROVED', 'REJECTED', 'APPROVED', 'APPROVED',\n",
       "       'REJECTED', 'APPROVED', 'APPROVED', 'APPROVED', 'APPROVED',\n",
       "       'REJECTED', 'REJECTED', 'APPROVED', 'APPROVED', 'REJECTED',\n",
       "       'REJECTED', 'APPROVED', 'REJECTED', 'APPROVED', 'REJECTED',\n",
       "       'REJECTED', 'APPROVED', 'APPROVED', 'APPROVED', 'APPROVED',\n",
       "       'APPROVED', 'APPROVED', 'REJECTED', 'APPROVED', 'REJECTED',\n",
       "       'APPROVED', 'APPROVED', 'REJECTED', 'APPROVED', 'APPROVED',\n",
       "       'REJECTED', 'APPROVED', 'APPROVED', 'APPROVED', 'APPROVED',\n",
       "       'APPROVED', 'REJECTED', 'REJECTED', 'REJECTED', 'APPROVED',\n",
       "       'REJECTED', 'REJECTED', 'APPROVED', 'APPROVED', 'REJECTED',\n",
       "       'REJECTED', 'APPROVED', 'APPROVED', 'REJECTED', 'APPROVED',\n",
       "       'REJECTED', 'REJECTED', 'REJECTED', 'REJECTED', 'REJECTED',\n",
       "       'APPROVED', 'APPROVED', 'REJECTED', 'REJECTED', 'REJECTED',\n",
       "       'REJECTED', 'APPROVED', 'REJECTED', 'REJECTED', 'REJECTED',\n",
       "       'APPROVED', 'APPROVED', 'REJECTED', 'APPROVED', 'APPROVED',\n",
       "       'REJECTED', 'APPROVED', 'APPROVED', 'APPROVED', 'REJECTED',\n",
       "       'APPROVED', 'APPROVED', 'APPROVED', 'APPROVED', 'APPROVED',\n",
       "       'APPROVED', 'APPROVED', 'APPROVED', 'APPROVED', 'REJECTED',\n",
       "       'REJECTED', 'REJECTED', 'REJECTED', 'REJECTED', 'REJECTED',\n",
       "       'APPROVED', 'APPROVED', 'APPROVED', 'APPROVED', 'REJECTED',\n",
       "       'REJECTED', 'REJECTED', 'REJECTED', 'APPROVED', 'APPROVED',\n",
       "       'APPROVED', 'REJECTED', 'APPROVED', 'REJECTED', 'APPROVED'],\n",
       "      dtype='<U8')"
      ]
     },
     "execution_count": 97,
     "metadata": {},
     "output_type": "execute_result"
    }
   ],
   "source": [
    "np.random.seed(42)\n",
    "n_samples = 200\n",
    "\n",
    "#Generate income and credit scores\n",
    "income = np.random.normal(50, 10, n_samples) #Mean = 50k, sd = 10k\n",
    "credit_score = np.random.normal(600, 50, n_samples)\n",
    "\n",
    "X = np.c_[income, credit_score]\n",
    "\n",
    "#Generate loan approval (approved or rejected)\n",
    "prob_approval = 1 / (1 + np.exp(-0.05 * (income - 50) - 0.05 * (credit_score - 600)))\n",
    "y = (np.random.rand(n_samples) < prob_approval).astype(int)\n",
    "\n",
    "approved_ratio = np.sum(y) / n_samples\n",
    "\n",
    "print(approved_ratio)\n",
    "\n",
    "# Turn the binary classes into approved and rejected\n",
    "\n",
    "y = np.where(y == 1, \"APPROVED\", \"REJECTED\")\n",
    "y"
   ]
  },
  {
   "cell_type": "code",
   "execution_count": 99,
   "id": "c1d116ee-88d3-4182-9535-9f2d26554758",
   "metadata": {},
   "outputs": [],
   "source": [
    "two_class_df = pd.DataFrame(np.c_[income.round(2), credit_score.astype(int), y], columns = [\"INCOME\", \"CREDIT_SCORE\", \"STATUS\"])"
   ]
  },
  {
   "cell_type": "code",
   "execution_count": 101,
   "id": "ff103d67-adb2-47e4-b1ed-c10debfabfd5",
   "metadata": {},
   "outputs": [
    {
     "data": {
      "text/html": [
       "<div>\n",
       "<style scoped>\n",
       "    .dataframe tbody tr th:only-of-type {\n",
       "        vertical-align: middle;\n",
       "    }\n",
       "\n",
       "    .dataframe tbody tr th {\n",
       "        vertical-align: top;\n",
       "    }\n",
       "\n",
       "    .dataframe thead th {\n",
       "        text-align: right;\n",
       "    }\n",
       "</style>\n",
       "<table border=\"1\" class=\"dataframe\">\n",
       "  <thead>\n",
       "    <tr style=\"text-align: right;\">\n",
       "      <th></th>\n",
       "      <th>INCOME</th>\n",
       "      <th>CREDIT_SCORE</th>\n",
       "      <th>STATUS</th>\n",
       "    </tr>\n",
       "  </thead>\n",
       "  <tbody>\n",
       "    <tr>\n",
       "      <th>ID001</th>\n",
       "      <td>54.97</td>\n",
       "      <td>617</td>\n",
       "      <td>APPROVED</td>\n",
       "    </tr>\n",
       "    <tr>\n",
       "      <th>ID002</th>\n",
       "      <td>48.62</td>\n",
       "      <td>628</td>\n",
       "      <td>APPROVED</td>\n",
       "    </tr>\n",
       "    <tr>\n",
       "      <th>ID003</th>\n",
       "      <td>56.48</td>\n",
       "      <td>654</td>\n",
       "      <td>APPROVED</td>\n",
       "    </tr>\n",
       "    <tr>\n",
       "      <th>ID004</th>\n",
       "      <td>65.23</td>\n",
       "      <td>652</td>\n",
       "      <td>APPROVED</td>\n",
       "    </tr>\n",
       "    <tr>\n",
       "      <th>ID005</th>\n",
       "      <td>47.66</td>\n",
       "      <td>531</td>\n",
       "      <td>REJECTED</td>\n",
       "    </tr>\n",
       "    <tr>\n",
       "      <th>...</th>\n",
       "      <td>...</td>\n",
       "      <td>...</td>\n",
       "      <td>...</td>\n",
       "    </tr>\n",
       "    <tr>\n",
       "      <th>ID196</th>\n",
       "      <td>53.85</td>\n",
       "      <td>576</td>\n",
       "      <td>APPROVED</td>\n",
       "    </tr>\n",
       "    <tr>\n",
       "      <th>ID197</th>\n",
       "      <td>41.16</td>\n",
       "      <td>514</td>\n",
       "      <td>REJECTED</td>\n",
       "    </tr>\n",
       "    <tr>\n",
       "      <th>ID198</th>\n",
       "      <td>51.54</td>\n",
       "      <td>667</td>\n",
       "      <td>APPROVED</td>\n",
       "    </tr>\n",
       "    <tr>\n",
       "      <th>ID199</th>\n",
       "      <td>50.58</td>\n",
       "      <td>594</td>\n",
       "      <td>REJECTED</td>\n",
       "    </tr>\n",
       "    <tr>\n",
       "      <th>ID200</th>\n",
       "      <td>38.57</td>\n",
       "      <td>661</td>\n",
       "      <td>APPROVED</td>\n",
       "    </tr>\n",
       "  </tbody>\n",
       "</table>\n",
       "<p>200 rows × 3 columns</p>\n",
       "</div>"
      ],
      "text/plain": [
       "      INCOME CREDIT_SCORE    STATUS\n",
       "ID001  54.97          617  APPROVED\n",
       "ID002  48.62          628  APPROVED\n",
       "ID003  56.48          654  APPROVED\n",
       "ID004  65.23          652  APPROVED\n",
       "ID005  47.66          531  REJECTED\n",
       "...      ...          ...       ...\n",
       "ID196  53.85          576  APPROVED\n",
       "ID197  41.16          514  REJECTED\n",
       "ID198  51.54          667  APPROVED\n",
       "ID199  50.58          594  REJECTED\n",
       "ID200  38.57          661  APPROVED\n",
       "\n",
       "[200 rows x 3 columns]"
      ]
     },
     "execution_count": 101,
     "metadata": {},
     "output_type": "execute_result"
    }
   ],
   "source": [
    "two_class_df.index = [f\"ID{str(i).zfill(3)}\" for i in range(1, n_samples + 1)]\n",
    "\n",
    "two_class_df"
   ]
  },
  {
   "cell_type": "code",
   "execution_count": 103,
   "id": "789a3391-527c-45a1-9ef5-d19bf38d5388",
   "metadata": {},
   "outputs": [],
   "source": [
    "two_class_df.to_csv(\"two_classes.csv\")"
   ]
  },
  {
   "cell_type": "code",
   "execution_count": 105,
   "id": "e4b9e70a-52c4-4f6f-8de8-06476449a8ad",
   "metadata": {},
   "outputs": [],
   "source": [
    "n_samples = 300\n",
    "\n",
    "#Generate income and credit scores\n",
    "income = np.random.normal(50, 10, n_samples) #Mean = 50k, sd = 10k\n",
    "credit_score = np.random.normal(600, 50, n_samples)\n",
    "\n",
    "X = np.c_[income, credit_score]\n",
    "\n",
    "#Generate loan approval (approved or rejected)\n",
    "prob_approval = 1 / (1 + np.exp(-0.05 * (income - 50) - 0.05 * (credit_score - 600)))\n",
    "y = np.digitize(prob_approval, [0.33, 0.67])\n",
    "\n",
    "y_labels = np.where(y == 0, \"REJECTED\", np.where(y == 1, \"PENDING\", \"APPROVED\"))"
   ]
  },
  {
   "cell_type": "code",
   "execution_count": 107,
   "id": "3644bd84-fe82-4e51-b480-891d6e9869f3",
   "metadata": {},
   "outputs": [
    {
     "data": {
      "text/html": [
       "<div>\n",
       "<style scoped>\n",
       "    .dataframe tbody tr th:only-of-type {\n",
       "        vertical-align: middle;\n",
       "    }\n",
       "\n",
       "    .dataframe tbody tr th {\n",
       "        vertical-align: top;\n",
       "    }\n",
       "\n",
       "    .dataframe thead th {\n",
       "        text-align: right;\n",
       "    }\n",
       "</style>\n",
       "<table border=\"1\" class=\"dataframe\">\n",
       "  <thead>\n",
       "    <tr style=\"text-align: right;\">\n",
       "      <th></th>\n",
       "      <th>INCOME</th>\n",
       "      <th>CREDIT_SCORE</th>\n",
       "      <th>STATUS</th>\n",
       "    </tr>\n",
       "  </thead>\n",
       "  <tbody>\n",
       "    <tr>\n",
       "      <th>290</th>\n",
       "      <td>51.66</td>\n",
       "      <td>591</td>\n",
       "      <td>PENDING</td>\n",
       "    </tr>\n",
       "    <tr>\n",
       "      <th>291</th>\n",
       "      <td>54.92</td>\n",
       "      <td>600</td>\n",
       "      <td>PENDING</td>\n",
       "    </tr>\n",
       "    <tr>\n",
       "      <th>292</th>\n",
       "      <td>52.89</td>\n",
       "      <td>545</td>\n",
       "      <td>REJECTED</td>\n",
       "    </tr>\n",
       "    <tr>\n",
       "      <th>293</th>\n",
       "      <td>74.55</td>\n",
       "      <td>527</td>\n",
       "      <td>REJECTED</td>\n",
       "    </tr>\n",
       "    <tr>\n",
       "      <th>294</th>\n",
       "      <td>43.62</td>\n",
       "      <td>679</td>\n",
       "      <td>APPROVED</td>\n",
       "    </tr>\n",
       "    <tr>\n",
       "      <th>295</th>\n",
       "      <td>44.69</td>\n",
       "      <td>557</td>\n",
       "      <td>REJECTED</td>\n",
       "    </tr>\n",
       "    <tr>\n",
       "      <th>296</th>\n",
       "      <td>43.77</td>\n",
       "      <td>550</td>\n",
       "      <td>REJECTED</td>\n",
       "    </tr>\n",
       "    <tr>\n",
       "      <th>297</th>\n",
       "      <td>44.45</td>\n",
       "      <td>492</td>\n",
       "      <td>REJECTED</td>\n",
       "    </tr>\n",
       "    <tr>\n",
       "      <th>298</th>\n",
       "      <td>43.63</td>\n",
       "      <td>568</td>\n",
       "      <td>REJECTED</td>\n",
       "    </tr>\n",
       "    <tr>\n",
       "      <th>299</th>\n",
       "      <td>61.89</td>\n",
       "      <td>533</td>\n",
       "      <td>REJECTED</td>\n",
       "    </tr>\n",
       "  </tbody>\n",
       "</table>\n",
       "</div>"
      ],
      "text/plain": [
       "    INCOME CREDIT_SCORE    STATUS\n",
       "290  51.66          591   PENDING\n",
       "291  54.92          600   PENDING\n",
       "292  52.89          545  REJECTED\n",
       "293  74.55          527  REJECTED\n",
       "294  43.62          679  APPROVED\n",
       "295  44.69          557  REJECTED\n",
       "296  43.77          550  REJECTED\n",
       "297  44.45          492  REJECTED\n",
       "298  43.63          568  REJECTED\n",
       "299  61.89          533  REJECTED"
      ]
     },
     "execution_count": 107,
     "metadata": {},
     "output_type": "execute_result"
    }
   ],
   "source": [
    "three_class_df = pd.DataFrame(np.c_[income.round(2), credit_score.astype(int), y_labels], columns = [\"INCOME\", \"CREDIT_SCORE\", \"STATUS\"])\n",
    "three_class_df.tail(10)"
   ]
  },
  {
   "cell_type": "code",
   "execution_count": 109,
   "id": "958d19d8-6979-47f3-9653-4561fdd0249d",
   "metadata": {},
   "outputs": [],
   "source": [
    "three_class_df.index = [f\"ID{str(i).zfill(3)}\" for i in range(1, n_samples + 1)]\n",
    "three_class_df.to_csv(\"three_classes.csv\")"
   ]
  },
  {
   "cell_type": "markdown",
   "id": "dbaf9b12-4fd2-4b7e-9ed0-ae33180b46e0",
   "metadata": {},
   "source": [
    "### Logistic Regression in `sklearn`\n",
    "\n",
    "Exercise: Two-class dataset\n",
    "- Implement Logistic Regression (train.test.split, test_size = 0.3)\n",
    "- Create a confusion matrix\n",
    "- Calculate metrics (accuracy, precision, recall, F1 score)"
   ]
  },
  {
   "cell_type": "code",
   "execution_count": 119,
   "id": "a0beb0e8-e835-4d80-bc8f-39a7b711d857",
   "metadata": {},
   "outputs": [],
   "source": [
    "from sklearn.model_selection import train_test_split\n",
    "from sklearn.linear_model import LogisticRegression\n",
    "from sklearn.metrics import accuracy_score, precision_score, recall_score, f1_score, confusion_matrix, classification_report"
   ]
  },
  {
   "cell_type": "code",
   "execution_count": 137,
   "id": "2316b88f-43c0-4353-920e-9e41110348c4",
   "metadata": {},
   "outputs": [
    {
     "name": "stdout",
     "output_type": "stream",
     "text": [
      "Confusion Matrix:\n",
      "[[27  5]\n",
      " [ 3 25]]\n",
      "Classification Report:\n",
      "              precision    recall  f1-score   support\n",
      "\n",
      "    APPROVED       0.90      0.84      0.87        32\n",
      "    REJECTED       0.83      0.89      0.86        28\n",
      "\n",
      "    accuracy                           0.87        60\n",
      "   macro avg       0.87      0.87      0.87        60\n",
      "weighted avg       0.87      0.87      0.87        60\n",
      "\n"
     ]
    },
    {
     "name": "stderr",
     "output_type": "stream",
     "text": [
      "C:\\Users\\Dianne Yumol\\anaconda3\\Lib\\site-packages\\sklearn\\utils\\validation.py:1408: DataConversionWarning: A column-vector y was passed when a 1d array was expected. Please change the shape of y to (n_samples, ), for example using ravel().\n",
      "  y = column_or_1d(y, warn=True)\n"
     ]
    }
   ],
   "source": [
    "two_classes = pd.read_csv(\"two_classes.csv\")\n",
    "\n",
    "X = two_classes[[\"INCOME\", \"CREDIT_SCORE\"]]\n",
    "y = two_classes[[\"STATUS\"]]\n",
    "\n",
    "X_train, X_test, y_train, y_test = train_test_split(X, y, test_size=0.3, random_state=42)\n",
    "\n",
    "model = LogisticRegression()\n",
    "model.fit(X_train, y_train)\n",
    "\n",
    "y_pred = model.predict(X_test)\n",
    "\n",
    "conf_matrix = confusion_matrix(y_test, y_pred)\n",
    "class_report = classification_report(y_test, y_pred)\n",
    "\n",
    "print(\"Confusion Matrix:\")\n",
    "print(conf_matrix)\n",
    "print(\"Classification Report:\")\n",
    "print(class_report)"
   ]
  }
 ],
 "metadata": {
  "kernelspec": {
   "display_name": "Python 3 (ipykernel)",
   "language": "python",
   "name": "python3"
  },
  "language_info": {
   "codemirror_mode": {
    "name": "ipython",
    "version": 3
   },
   "file_extension": ".py",
   "mimetype": "text/x-python",
   "name": "python",
   "nbconvert_exporter": "python",
   "pygments_lexer": "ipython3",
   "version": "3.12.4"
  }
 },
 "nbformat": 4,
 "nbformat_minor": 5
}
