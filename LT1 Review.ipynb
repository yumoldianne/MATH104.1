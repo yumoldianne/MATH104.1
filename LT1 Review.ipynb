{
 "cells": [
  {
   "cell_type": "code",
   "execution_count": 2,
   "id": "4bba7a0a-e0a2-4f08-a233-8c69afbfaf62",
   "metadata": {},
   "outputs": [],
   "source": [
    "import numpy as np"
   ]
  },
  {
   "cell_type": "markdown",
   "id": "77cc3f2c-2f36-4d6d-a9bb-713a3e4c112f",
   "metadata": {},
   "source": [
    "### LT1 (October 2024)"
   ]
  },
  {
   "cell_type": "code",
   "execution_count": 12,
   "id": "2be729c5-0456-4842-ba08-02604b73bd39",
   "metadata": {},
   "outputs": [],
   "source": [
    "#1a\n",
    "\n",
    "X = np.array([[1, 0], [1, 1], [1, -1], [1, 2]])\n",
    "y = np.array([[1], [2], [2], [3]])"
   ]
  },
  {
   "cell_type": "code",
   "execution_count": 22,
   "id": "9104b149-97ff-4472-be79-67498c652d54",
   "metadata": {},
   "outputs": [],
   "source": [
    "w = np.linalg.inv(X.T@X) @ X.T @ y"
   ]
  },
  {
   "cell_type": "code",
   "execution_count": 36,
   "id": "073e05f3-cb26-4e60-ac1d-8c1b1810d7cf",
   "metadata": {},
   "outputs": [
    {
     "data": {
      "text/plain": [
       "(2, 2)"
      ]
     },
     "execution_count": 36,
     "metadata": {},
     "output_type": "execute_result"
    }
   ],
   "source": [
    "np.shape(X.T@X)"
   ]
  },
  {
   "cell_type": "code",
   "execution_count": 24,
   "id": "b0ecdcca-0803-4467-b4ff-6356fe528325",
   "metadata": {},
   "outputs": [
    {
     "data": {
      "text/plain": [
       "array([[1.8],\n",
       "       [0.4]])"
      ]
     },
     "execution_count": 24,
     "metadata": {},
     "output_type": "execute_result"
    }
   ],
   "source": [
    "w"
   ]
  },
  {
   "cell_type": "code",
   "execution_count": 26,
   "id": "d018a51d-84d6-46f7-bf3e-f8adc57fc8b2",
   "metadata": {},
   "outputs": [],
   "source": [
    "loss = (1/8)* (X @ w - y).T @ (X @ w - y)"
   ]
  },
  {
   "cell_type": "code",
   "execution_count": 28,
   "id": "db876df4-d029-48c2-aa2e-ee20949ec276",
   "metadata": {},
   "outputs": [
    {
     "data": {
      "text/plain": [
       "array([[0.15]])"
      ]
     },
     "execution_count": 28,
     "metadata": {},
     "output_type": "execute_result"
    }
   ],
   "source": [
    "loss"
   ]
  },
  {
   "cell_type": "code",
   "execution_count": 44,
   "id": "43572e75-fea7-4703-b468-bcac3126b594",
   "metadata": {},
   "outputs": [],
   "source": [
    "#1b\n",
    "\n",
    "w_ridge = np.linalg.inv((X.T @ X + 3*np.identity(2))) @ X.T @ y"
   ]
  },
  {
   "cell_type": "code",
   "execution_count": 46,
   "id": "08c209e8-3804-47c8-945a-206e3de08c36",
   "metadata": {},
   "outputs": [
    {
     "data": {
      "text/plain": [
       "array([[1.01694915],\n",
       "       [0.44067797]])"
      ]
     },
     "execution_count": 46,
     "metadata": {},
     "output_type": "execute_result"
    }
   ],
   "source": [
    "w_ridge"
   ]
  },
  {
   "cell_type": "code",
   "execution_count": 48,
   "id": "3cea43fb-983d-4d09-883a-22b30f12f595",
   "metadata": {},
   "outputs": [],
   "source": [
    "#1d\n",
    "\n",
    "kernel = np.array([[1, 0, 0], [1, 1, 1], [1, 1, 1], [1, 2, 4]])"
   ]
  },
  {
   "cell_type": "code",
   "execution_count": 52,
   "id": "7b1bf12f-8149-437e-9e3d-b39c8747203a",
   "metadata": {},
   "outputs": [],
   "source": [
    "w_k = np.linalg.inv(kernel.T @ kernel) @ kernel.T @ y"
   ]
  },
  {
   "cell_type": "code",
   "execution_count": 56,
   "id": "afd08494-e30d-474f-a37e-f62357ac7769",
   "metadata": {},
   "outputs": [
    {
     "data": {
      "text/plain": [
       "array([[1.],\n",
       "       [1.],\n",
       "       [0.]])"
      ]
     },
     "execution_count": 56,
     "metadata": {},
     "output_type": "execute_result"
    }
   ],
   "source": [
    "w_k.round(4)"
   ]
  },
  {
   "cell_type": "code",
   "execution_count": 60,
   "id": "7af63a2a-0039-431d-aa4e-56162c76bf49",
   "metadata": {},
   "outputs": [],
   "source": [
    "loss_k = (1/8) * (kernel @ w_k - y).T @ (kernel @ w_k - y)"
   ]
  },
  {
   "cell_type": "code",
   "execution_count": 62,
   "id": "ceede2ea-878e-47d5-a270-562599142fe6",
   "metadata": {},
   "outputs": [
    {
     "data": {
      "text/plain": [
       "array([[0.]])"
      ]
     },
     "execution_count": 62,
     "metadata": {},
     "output_type": "execute_result"
    }
   ],
   "source": [
    "loss_k.round(4)"
   ]
  },
  {
   "cell_type": "markdown",
   "id": "7cbe1c4b-c033-49c5-98a4-bbfd2fea7a99",
   "metadata": {},
   "source": [
    "### LT1 (March 2024)"
   ]
  },
  {
   "cell_type": "code",
   "execution_count": 71,
   "id": "c0782b09-4fba-484d-a854-c526a26e3d54",
   "metadata": {},
   "outputs": [],
   "source": [
    "#1a\n",
    "\n",
    "X = np.array([[1, 0], [1, 1], [1, -1], [1, 2]])\n",
    "y = np.array([[1], [-1], [4], [-13]])"
   ]
  },
  {
   "cell_type": "code",
   "execution_count": 73,
   "id": "7987e428-9ae2-46d0-bbfd-254804593eaa",
   "metadata": {},
   "outputs": [],
   "source": [
    "w = np.linalg.inv(X.T@X) @ X.T @ y"
   ]
  },
  {
   "cell_type": "code",
   "execution_count": 75,
   "id": "1b059291-1d9d-46dd-8e3b-a3eb1b210b97",
   "metadata": {},
   "outputs": [
    {
     "data": {
      "text/plain": [
       "array([[ 0.4],\n",
       "       [-5.3]])"
      ]
     },
     "execution_count": 75,
     "metadata": {},
     "output_type": "execute_result"
    }
   ],
   "source": [
    "w"
   ]
  },
  {
   "cell_type": "code",
   "execution_count": 77,
   "id": "6da160fb-6f04-4408-84f3-2a3452f938a9",
   "metadata": {},
   "outputs": [],
   "source": [
    "loss = (1/8)* (X @ w - y).T @ (X @ w - y)"
   ]
  },
  {
   "cell_type": "code",
   "execution_count": 79,
   "id": "54eba752-5391-45ea-b9fc-e03fdbcd7e4a",
   "metadata": {},
   "outputs": [
    {
     "data": {
      "text/plain": [
       "array([[3.2875]])"
      ]
     },
     "execution_count": 79,
     "metadata": {},
     "output_type": "execute_result"
    }
   ],
   "source": [
    "loss"
   ]
  },
  {
   "cell_type": "code",
   "execution_count": 89,
   "id": "cb6a1d3e-bc2b-4b0d-98fd-6223b51134d1",
   "metadata": {},
   "outputs": [],
   "source": [
    "#1b\n",
    "\n",
    "loss_ridge = (1/8)* (X @ w - y).T @ (X @ w - y) + 1.2*(w.T @ w)"
   ]
  },
  {
   "cell_type": "code",
   "execution_count": 91,
   "id": "04b08033-d239-495a-92de-7dbb99f7a5b3",
   "metadata": {},
   "outputs": [
    {
     "data": {
      "text/plain": [
       "array([[37.1875]])"
      ]
     },
     "execution_count": 91,
     "metadata": {},
     "output_type": "execute_result"
    }
   ],
   "source": [
    "loss_ridge"
   ]
  },
  {
   "cell_type": "code",
   "execution_count": 93,
   "id": "e6782d2d-00b6-495e-b7d7-7c061eeba104",
   "metadata": {},
   "outputs": [],
   "source": [
    "kernel = np.array([[1, 0, 0, 0], [1, 1, 1, 1], [1, 1, -1, 1], [1, 2, 4, 8]])"
   ]
  },
  {
   "cell_type": "code",
   "execution_count": 95,
   "id": "3129d2d5-24ff-4655-8311-a9a648458bd7",
   "metadata": {},
   "outputs": [
    {
     "data": {
      "text/plain": [
       "array([[ 1,  0,  0,  0],\n",
       "       [ 1,  1,  1,  1],\n",
       "       [ 1,  1, -1,  1],\n",
       "       [ 1,  2,  4,  8]])"
      ]
     },
     "execution_count": 95,
     "metadata": {},
     "output_type": "execute_result"
    }
   ],
   "source": [
    "kernel"
   ]
  },
  {
   "cell_type": "code",
   "execution_count": 97,
   "id": "0854ac8b-efbd-4bb4-b0bb-99bec664f0c7",
   "metadata": {},
   "outputs": [],
   "source": [
    "w_kernel = np.linalg.inv(kernel.T @ kernel) @ kernel.T @ y"
   ]
  },
  {
   "cell_type": "code",
   "execution_count": 101,
   "id": "a1fa7ddc-34d3-4adc-a16d-52f088b14432",
   "metadata": {},
   "outputs": [
    {
     "data": {
      "text/plain": [
       "array([[ 1.    ],\n",
       "       [ 1.3333],\n",
       "       [-2.5   ],\n",
       "       [-0.8333]])"
      ]
     },
     "execution_count": 101,
     "metadata": {},
     "output_type": "execute_result"
    }
   ],
   "source": [
    "w_kernel.round(4)"
   ]
  }
 ],
 "metadata": {
  "kernelspec": {
   "display_name": "Python 3 (ipykernel)",
   "language": "python",
   "name": "python3"
  },
  "language_info": {
   "codemirror_mode": {
    "name": "ipython",
    "version": 3
   },
   "file_extension": ".py",
   "mimetype": "text/x-python",
   "name": "python",
   "nbconvert_exporter": "python",
   "pygments_lexer": "ipython3",
   "version": "3.12.4"
  }
 },
 "nbformat": 4,
 "nbformat_minor": 5
}
