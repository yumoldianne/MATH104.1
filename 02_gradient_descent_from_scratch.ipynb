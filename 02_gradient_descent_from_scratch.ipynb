{
 "cells": [
  {
   "cell_type": "markdown",
   "metadata": {},
   "source": [
    "# Implementation of Gradient Descent from Scratch in Python "
   ]
  },
  {
   "cell_type": "markdown",
   "metadata": {},
   "source": [
    "The gradient descent is an optimization algorithm that, in machine learning, is mostly used to minimize a loss function. "
   ]
  },
  {
   "cell_type": "markdown",
   "metadata": {},
   "source": [
    "This gradient descent algorithm will help us find a minimum value in a given function which we will create. "
   ]
  },
  {
   "cell_type": "code",
   "execution_count": 6,
   "metadata": {},
   "outputs": [],
   "source": [
    "import numpy as np\n",
    "import matplotlib.pyplot as plt\n",
    "%matplotlib inline"
   ]
  },
  {
   "cell_type": "code",
   "execution_count": 7,
   "metadata": {},
   "outputs": [],
   "source": [
    "#Helper Functions\n",
    "def f(x,w,b):\n",
    "    '''Sigmoid Function'''\n",
    "    f = 1/(1+np.exp(-(w*x+b)))\n",
    "    return f\n",
    "def mse(x,y,w,b):\n",
    "    '''Mean Squared Loss Function'''\n",
    "    L = 0.0\n",
    "    for i in range(x.shape[0]):\n",
    "        L += 0.5*(y[i]-f(x[i],w,b))**2\n",
    "    return L\n",
    "def cross_entropy(x,y,w,b):\n",
    "    '''Cross Entropy Loss Function'''\n",
    "    L = 0.0\n",
    "    for i in range(x.shape[0]):\n",
    "        L += -(y[i]*np.log(f(x[i],w,b)))\n",
    "    return L\n",
    "def grad_w_mse(x,y,w,b):\n",
    "    fx = f(x,w,b) \n",
    "    dw = (fx - y)*fx*(1-fx)*x\n",
    "    return dw\n",
    "def grad_b_mse(x,y,w,b):\n",
    "    fx = f(x,w,b) \n",
    "    db = (fx - y)*fx*(1-fx)\n",
    "    return db\n",
    "def grad_w_cross(x,y,w,b):\n",
    "    fx = f(x,w,b) \n",
    "    dw = (- y)*(1-fx)*x\n",
    "    return dw\n",
    "def grad_b_cross(x,y,w,b):\n",
    "    fx = f(x,w,b) \n",
    "    db = (- y)*(1-fx)\n",
    "    return db\n",
    "\n",
    "#Algorithm\n",
    "def GD(x,y,epochs,batch_size,loss,lr):\n",
    "    w = np.random.randn()\n",
    "    b = np.random.randn()\n",
    "    l_list = []\n",
    "    w_list = []\n",
    "    b_list = []\n",
    "    points = 0\n",
    "    ep = [i for i in range(epochs+1)]\n",
    "    dw,db = 0,0\n",
    "    for i in range(epochs+1):\n",
    "        dw,db = 0,0\n",
    "        for j in range(x.shape[0]):\n",
    "            if (loss == 'mse'):\n",
    "                dw += grad_w_mse(x[j],y[j],w,b)\n",
    "                db += grad_b_mse(x[j],y[j],w,b)\n",
    "            elif (loss == 'cross_entropy'):\n",
    "                dw += grad_w_cross(x[j],y[j],w,b)\n",
    "                db += grad_b_cross(x[j],y[j],w,b)\n",
    "            points += 1\n",
    "            if(points % batch_size == 0):\n",
    "                w = w - lr*dw\n",
    "                b = b - lr*db\n",
    "                dw,db = 0,0\n",
    "        if (loss == 'mse'):\n",
    "            print('Loss after {}th epoch = {}\\n'.format(i,mse(x,y,w,b)[0]))\n",
    "            l_list.append(mse(x,y,w,b)[0])\n",
    "        elif (loss == 'cross_entropy'):\n",
    "            print('Loss after {}th epoch = {}\\n'.format(i,cross_entropy(x,y,w,b)[0]))\n",
    "            l_list.append(cross_entropy(x,y,w,b)[0])\n",
    "        w_list.append(w[0])\n",
    "        b_list.append(b[0])\n",
    "    plt.xlabel('Epochs')\n",
    "    plt.ylabel('Loss')\n",
    "    plt.title('Loss vs Epoch Curve\\nAlgotithm :Mini Batch Gradient Decent\\nBatch Size = {}\\nLearning Rate = {}\\nLoss Function = {}'.format(batch_size,lr,loss))\n",
    "    plt.plot(ep,l_list)\n",
    "    plt.show()\n",
    "    return w_list,b_list"
   ]
  }
 ],
 "metadata": {
  "kernelspec": {
   "display_name": "Python 3 (ipykernel)",
   "language": "python",
   "name": "python3"
  },
  "language_info": {
   "codemirror_mode": {
    "name": "ipython",
    "version": 3
   },
   "file_extension": ".py",
   "mimetype": "text/x-python",
   "name": "python",
   "nbconvert_exporter": "python",
   "pygments_lexer": "ipython3",
   "version": "3.12.7"
  }
 },
 "nbformat": 4,
 "nbformat_minor": 4
}
