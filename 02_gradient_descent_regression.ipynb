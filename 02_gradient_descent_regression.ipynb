{
 "cells": [
  {
   "cell_type": "markdown",
   "metadata": {},
   "source": [
    "# Gradient Descent"
   ]
  },
  {
   "cell_type": "markdown",
   "metadata": {},
   "source": [
    "### Gradient Descent Regression"
   ]
  },
  {
   "cell_type": "code",
   "execution_count": 4,
   "metadata": {},
   "outputs": [],
   "source": [
    "import numpy as np\n",
    "from sklearn.model_selection import train_test_split\n",
    "from sklearn.metrics import mean_squared_error\n",
    "\n",
    "from IPython.display import clear_output"
   ]
  },
  {
   "cell_type": "code",
   "execution_count": 5,
   "metadata": {},
   "outputs": [],
   "source": [
    "np.random.seed(0)\n",
    "\n",
    "## Data\n",
    "X = np.array(list(range(1,11))).reshape(-1,1)\n",
    "y = np.array([3*n for n in range(10)]) + np.random.normal(0,1,10)\n",
    "\n",
    "X_train, X_test, y_train, y_test = train_test_split(\n",
    "    X, y, test_size=0.2, random_state = 0)"
   ]
  },
  {
   "cell_type": "code",
   "execution_count": 23,
   "metadata": {},
   "outputs": [
    {
     "name": "stdout",
     "output_type": "stream",
     "text": [
      "Weights: [-1.20369564  2.8212887 ]\n"
     ]
    }
   ],
   "source": [
    "X = X_train\n",
    "y = y_train\n",
    "\n",
    "## Design Matrix\n",
    "XD = np.c_[np.ones(X.shape[0]), X]\n",
    "\n",
    "## Hyperparameters\n",
    "learning_rate = 0.0001\n",
    "num_iter = 10000\n",
    "\n",
    "## Gradient Descent\n",
    "w_cur = np.random.normal(0,1,2)\n",
    "N = len(y) \n",
    "\n",
    "for j in range(num_iter):\n",
    "    clear_output(wait = True) # It will only clear once it goes back to this portion of the loop\n",
    "        \n",
    "    gradient = np.zeros_like(w_cur) # Number of zeros the same as w_cur\n",
    "    \n",
    "    y_pred = XD.dot(w_cur) # Calculate y using the current weights\n",
    "    \n",
    "    if (j+1) % 100 == 0:\n",
    "        print(f\"Current Iteration: {j + 1}/{num_iter}\")\n",
    "        print(f\"Current Loss:L {mean_squared_error(y, y_pred)}\")\n",
    "        \n",
    "    for i in range(N):\n",
    "        grad_0 = -1 / N * sum(y - y_pred)\n",
    "        grad_1 = -1 / N * sum(X.T.dot(y - y_pred)) \n",
    "        gradient += np.array([grad_0, grad_1])\n",
    "        \n",
    "    w_cur -= gradient * learning_rate    \n",
    "    \n",
    "clear_output()\n",
    "print(f\"Weights: {w_cur}\")"
   ]
  },
  {
   "cell_type": "code",
   "execution_count": 9,
   "metadata": {},
   "outputs": [
    {
     "name": "stdout",
     "output_type": "stream",
     "text": [
      "[-1.3105001099203442, 2.8369468245195097]\n"
     ]
    }
   ],
   "source": [
    "from sklearn.linear_model import LinearRegression\n",
    "\n",
    "model = LinearRegression()\n",
    "model.fit(X_train, y_train)\n",
    "\n",
    "print(f\"[{model.intercept_}, {model.coef_[0]}]\") # Should be the same/similar as above"
   ]
  },
  {
   "cell_type": "markdown",
   "metadata": {},
   "source": [
    "Potential Danger for Gradient Descent: Finds Local Minimum Instead"
   ]
  },
  {
   "cell_type": "code",
   "execution_count": 20,
   "metadata": {},
   "outputs": [
    {
     "name": "stdout",
     "output_type": "stream",
     "text": [
      "x: 2.1982655564761906\n"
     ]
    }
   ],
   "source": [
    "np.random.seed(0)\n",
    "\n",
    "## Hyperparameters\n",
    "learning_rate = 0.0001\n",
    "num_iter = 10000\n",
    "\n",
    "## Gradient Descent\n",
    "x_cur = np.random.uniform(0,3) \n",
    "\n",
    "for j in range(num_iter):\n",
    "    clear_output(wait = True) # It will only clear once it goes back to this portion of the loop\n",
    "        \n",
    "    gradient = 4 * x_cur ** 3 - 9 * x_cur ** 2 + 1\n",
    "    \n",
    "    x_cur -= gradient * learning_rate\n",
    "    \n",
    "clear_output()\n",
    "print(f\"x: {x_cur}\")"
   ]
  },
  {
   "cell_type": "markdown",
   "metadata": {},
   "source": [
    "#### Ways to adress the pitfalls of Gradient Descent\n",
    "- Stochastic Gradient Descent\n",
    "- Mini-batch Gradient Descent"
   ]
  },
  {
   "cell_type": "markdown",
   "metadata": {},
   "source": [
    "### Gradient Descent for Polynomial Regression"
   ]
  },
  {
   "cell_type": "code",
   "execution_count": 25,
   "metadata": {},
   "outputs": [],
   "source": [
    "import matplotlib.pyplot as plt"
   ]
  },
  {
   "cell_type": "code",
   "execution_count": 27,
   "metadata": {},
   "outputs": [
    {
     "data": {
      "image/png": "[encoded data removed]",
      "text/plain": [
       "<Figure size 1440x720 with 1 Axes>"
      ]
     },
     "metadata": {
      "needs_background": "light"
     },
     "output_type": "display_data"
    }
   ],
   "source": [
    "np.random.seed(0)\n",
    "\n",
    "X = np.random.uniform(-1, 3, 100)\n",
    "\n",
    "xs = []\n",
    "ys = []\n",
    "\n",
    "for x in X:\n",
    "    y = x ** 4 - 3 * x ** 3 + x + np.random.normal(0, 0.25)\n",
    "    xs += [x]\n",
    "    ys += [y]\n",
    "    \n",
    "plt.figure(figsize = (20, 10))\n",
    "plt.plot(xs, ys, \"bo\")\n",
    "plt.title(\"Data\")\n",
    "plt.show()\n",
    "\n",
    "## Hyperparameters\n",
    "learning_rate = 0.0001\n",
    "num_iter = 10000\n",
    "\n",
    "# Try to do it ermm"
   ]
  },
  {
   "cell_type": "markdown",
   "metadata": {},
   "source": [
    "Target weights:\n",
    "   - w_0 = 0\n",
    "   - w_1 = 1\n",
    "   - w_2 = 0\n",
    "   - w_3 = -3\n",
    "   - w_4 = 1"
   ]
  }
 ],
 "metadata": {
  "kernelspec": {
   "display_name": "Python 3 (ipykernel)",
   "language": "python",
   "name": "python3"
  },
  "language_info": {
   "codemirror_mode": {
    "name": "ipython",
    "version": 3
   },
   "file_extension": ".py",
   "mimetype": "text/x-python",
   "name": "python",
   "nbconvert_exporter": "python",
   "pygments_lexer": "ipython3",
   "version": "3.12.4"
  }
 },
 "nbformat": 4,
 "nbformat_minor": 4
}
